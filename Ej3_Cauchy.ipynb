{
 "metadata": {
  "kernelspec": {
   "display_name": "Python 2",
   "language": "python",
   "name": "python2"
  },
  "language_info": {
   "codemirror_mode": {
    "name": "ipython",
    "version": 2
   },
   "file_extension": ".py",
   "mimetype": "text/x-python",
   "name": "python",
   "nbconvert_exporter": "python",
   "pygments_lexer": "ipython2",
   "version": "2.7.10"
  },
  "name": "",
  "signature": "sha256:7afb2e0e0b8d1d61962f4f58ca6ea9d1e2d10157948359b0573e05594c300507"
 },
 "nbformat": 3,
 "nbformat_minor": 0,
 "worksheets": [
  {
   "cells": [
    {
     "cell_type": "heading",
     "level": 1,
     "metadata": {},
     "source": [
      "Ejemplo 3. Aplicaci\u00f3n Cauchy"
     ]
    },
    {
     "cell_type": "markdown",
     "metadata": {},
     "source": [
      "Ejercicio tomado de Parcial MMC"
     ]
    },
    {
     "cell_type": "code",
     "collapsed": false,
     "input": [
      "from IPython.display import Image,Latex\n",
      "from numpy import array, cross,dot, sqrt"
     ],
     "language": "python",
     "metadata": {},
     "outputs": [],
     "prompt_number": 2
    },
    {
     "cell_type": "markdown",
     "metadata": {},
     "source": [
      "Si el tensor de esfuerzos en un punto $P$, en el sistema de referencia $X,Y,Z$ est\u00e1 definidido por:\n",
      "\n",
      "$$\\begin{align}\n",
      "\\\\\n",
      "&\\sigma_{xx} = 80\\dfrac{kgf}{cm^2}; \\;\\;\\; \\sigma_{yy} = 50\\dfrac{kgf}{cm^2}; \\;\\;\\; \\sigma_{zz} = 60\\dfrac{kgf}{cm^2} \\\\\\\\\n",
      "&\\tau_{xy} = \\tau_{yx} =40\\dfrac{kgf}{cm^2}, \\;\\;\\; \\tau_{xz} = \\tau_{zx} =30\\dfrac{kgf}{cm^2}; \\;\\;\\;\\tau_{yz} = \\tau_{zy} = 10 \\dfrac{kgf}{cm^2}\\\\\\\\\n",
      "\\end{align}$$\n",
      "\n",
      "\n",
      "Y las coordenadas de los puntos $A$, $B$ y $C$  en el sitema de referencia $X,Y,Z$  son $(1,0,0)$ , $(0,2,0)$ y $(0,0,3)$  respectivamente. Se pide lo siguiente:\n"
     ]
    },
    {
     "cell_type": "markdown",
     "metadata": {},
     "source": [
      "1._Calcular el vector de tracciones $\\vec{t}$, que actua en una cara del punto $P$, que es paralela al plano que contiene  los puntos $A$ , $B$ y $C \\\\\\\\$. \n",
      "\n",
      "Soluci\u00f3n: \n",
      "\n",
      "El vector de tracciones est\u00e1 dado por $$\\vec{t} = [\\sigma]\\; \\hat{n}$$\n",
      "\n",
      "Por este motivo se requiere encontrar $\\hat{n}$, el cual para nuestro problema no es m\u00e1s que un vector perpendicular al plano formado por los puntos $A$, $B$, $C$. \n",
      "\n",
      "Hagamos entonces una base con los vectores: $\\vec{AB} = \\vec{B} - \\vec{A}$ y $\\vec{AC} = \\vec{C} - \\vec{A}$"
     ]
    },
    {
     "cell_type": "code",
     "collapsed": false,
     "input": [
      "AB = array([0.,2.,0.]) - array([1., 0.,0.])\n",
      "AC = array([0.,0.,3.]) - array([1., 0.,0.])\n",
      "print 'AB=', AB, ',', 'AC=', AC"
     ],
     "language": "python",
     "metadata": {
      "scrolled": true
     },
     "outputs": [
      {
       "output_type": "stream",
       "stream": "stdout",
       "text": [
        "AB= [-1.  2.  0.]"
       ]
      },
      {
       "output_type": "stream",
       "stream": "stdout",
       "text": [
        " , AC= [-1.  0.  3.]\n"
       ]
      }
     ],
     "prompt_number": 3
    },
    {
     "cell_type": "markdown",
     "metadata": {},
     "source": [
      "El vector unitarion $\\hat{n}$ es entonces obtenido como $$ \\vec{n} = \\frac{\\vec{AB} \\times \\vec{AC}}{\\|\\vec{AB} \\times \\vec{AC}\\|} $$"
     ]
    },
    {
     "cell_type": "code",
     "collapsed": false,
     "input": [
      "Nor = cross(AB,AC)  \n",
      "MNor = sqrt(dot(Nor,Nor))\n",
      "n = Nor / MNor\n",
      "print 'Normal=',Nor, ',' 'Magnitud',MNor"
     ],
     "language": "python",
     "metadata": {
      "scrolled": true
     },
     "outputs": [
      {
       "output_type": "stream",
       "stream": "stdout",
       "text": [
        "Normal= [ 6.  3.  2.] ,Magnitud 7.0\n"
       ]
      }
     ],
     "prompt_number": 4
    },
    {
     "cell_type": "markdown",
     "metadata": {},
     "source": [
      "Por otro lado, el tensor $[\\sigma]$ ser\u00eda "
     ]
    },
    {
     "cell_type": "code",
     "collapsed": true,
     "input": [
      "Sigma = ([[80., 40., 30.], \n",
      "           [40.,50., 10.],\n",
      "           [30., 10., 60.]])"
     ],
     "language": "python",
     "metadata": {},
     "outputs": [],
     "prompt_number": 5
    },
    {
     "cell_type": "markdown",
     "metadata": {},
     "source": [
      "Con esto, el vector de tracciones $\\vec{t}$ ser\u00eda entonces: "
     ]
    },
    {
     "cell_type": "code",
     "collapsed": false,
     "input": [
      "t = dot(Sigma,n)\n",
      "print t.round(2)"
     ],
     "language": "python",
     "metadata": {},
     "outputs": [
      {
       "output_type": "stream",
       "stream": "stdout",
       "text": [
        "[ 94.29  58.57  47.14]\n"
       ]
      }
     ],
     "prompt_number": 6
    },
    {
     "cell_type": "markdown",
     "metadata": {},
     "source": [
      "2.Calcular el esfuerzo normal al que est\u00e1 sometida la cara del punto $P$, que es paralela al plano que contiene los puntos $A$ , $B$ y $C \\\\\\\\$. \n",
      "\n",
      "Soluci\u00f3n:\n",
      "El esfuerzo normal no es m\u00e1s que la proyecci\u00f3n escalar de $\\vec{t}$ sobre el vector normal unitario $\\hat{n}$. Es otras palabras $\\sigma_{nn} = {\\vec{t} \\cdot \\hat{n}}$\n",
      "\n"
     ]
    },
    {
     "cell_type": "code",
     "collapsed": false,
     "input": [
      "Sigmann = dot(t,n)\n",
      "print Sigmann.round(2)"
     ],
     "language": "python",
     "metadata": {},
     "outputs": [
      {
       "output_type": "stream",
       "stream": "stdout",
       "text": [
        "119.39\n"
       ]
      }
     ],
     "prompt_number": 7
    },
    {
     "cell_type": "markdown",
     "metadata": {},
     "source": [
      "3.Calcular la magnitud del esfuerzo tangencial al que est\u00e1 sometida la cara del punto $P$, que es paralela al plano que contiene los puntos $A$ , $B$ y $C \\\\\\\\$\n",
      "\n",
      "Soluci\u00f3n\n",
      "\n",
      "Teniendo el vector $\\vec{t}$ y su componente normal la componente normal $\\sigma_{nn}$, la magnitud de la compenente tangencial $\\tau$, se calcular\u00eda a partir de:\n",
      "\n",
      "$\\|\\vec{t}\\|^2 =  \\|\\sigma_{nn}\\|^2 + \\|\\tau\\|^2$\n",
      "    \n",
      "Despejando $\\tau$, se obtiene:\n"
     ]
    },
    {
     "cell_type": "code",
     "collapsed": false,
     "input": [
      "tau = sqrt(dot(t,t) - Sigmann**2) \n",
      "print tau.round(2)"
     ],
     "language": "python",
     "metadata": {
      "scrolled": false
     },
     "outputs": [
      {
       "output_type": "stream",
       "stream": "stdout",
       "text": [
        "17.01\n"
       ]
      }
     ],
     "prompt_number": 8
    }
   ],
   "metadata": {}
  }
 ]
}