{
 "cells": [
  {
   "cell_type": "markdown",
   "metadata": {},
   "source": [
    "# Ejemplo 3. Aplicación Cauchy"
   ]
  },
  {
   "cell_type": "markdown",
   "metadata": {},
   "source": [
    "Ejercicio tomado de Parcial MMC"
   ]
  },
  {
   "cell_type": "code",
   "execution_count": 11,
   "metadata": {
    "collapsed": false
   },
   "outputs": [],
   "source": [
    "from IPython.display import Image,Latex\n",
    "from numpy import array, cross,dot, sqrt"
   ]
  },
  {
   "cell_type": "markdown",
   "metadata": {},
   "source": [
    "Si el tensor de esfuerzos en un punto $P$, en el sistema de referencia $X,Y,Z$ está definidido por:\n",
    "\n",
    "$$\\begin{align}\n",
    "\\\\\n",
    "&\\sigma_{xx} = 80\\dfrac{kgf}{cm^2}; \\;\\;\\; \\sigma_{yy} = 50\\dfrac{kgf}{cm^2}; \\;\\;\\; \\sigma_{zz} = 60\\dfrac{kgf}{cm^2} \\\\\\\\\n",
    "&\\tau_{xy} = \\tau_{yx} =40\\dfrac{kgf}{cm^2}, \\;\\;\\; \\tau_{xz} = \\tau_{zx} =30\\dfrac{kgf}{cm^2}; \\;\\;\\;\\tau_{yz} = \\tau_{zy} = 10 \\dfrac{kgf}{cm^2}\\\\\\\\\n",
    "\\end{align}$$\n",
    "\n",
    "\n",
    "Y las coordenadas de los puntos $A$, $B$ y $C$  en el sitema de referencia $X,Y,Z$  son $(1,0,0)$ , $(0,2,0)$ y $(0,0,3)$  respectivamente. Se pide lo siguiente:\n"
   ]
  },
  {
   "cell_type": "markdown",
   "metadata": {},
   "source": [
    "1._Calcular el vector de tracciones $\\vec{t}$, que actua en una cara del punto $P$, que es paralela al plano que contiene  los puntos $A$ , $B$ y $C \\\\\\\\$. \n",
    "\n",
    "Solución: \n",
    "\n",
    "El vector de tracciones está dado por $$\\vec{t} = [\\sigma]\\; \\hat{n}$$\n",
    "\n",
    "Por este motivo se requiere encontrar $\\hat{n}$, el cual para nuestro problema no es más que un vector perpendicular al plano formado por los puntos $A$, $B$, $C$. \n",
    "\n",
    "Hagamos entonces una base con los vectores: $\\vec{AB} = \\vec{B} - \\vec{A}$ y $\\vec{AC} = \\vec{C} - \\vec{A}$"
   ]
  },
  {
   "cell_type": "code",
   "execution_count": 12,
   "metadata": {
    "collapsed": false,
    "scrolled": true
   },
   "outputs": [
    {
     "name": "stdout",
     "output_type": "stream",
     "text": [
      "AB= [-1.  2.  0.] , AC= [-1.  0.  3.]\n"
     ]
    }
   ],
   "source": [
    "AB = array([0.,2.,0.]) - array([1., 0.,0.])\n",
    "AC = array([0.,0.,3.]) - array([1., 0.,0.])\n",
    "print 'AB=', AB, ',', 'AC=', AC"
   ]
  },
  {
   "cell_type": "markdown",
   "metadata": {},
   "source": [
    "El vector unitarion $\\hat{n}$ es entonces obtenido como $$ \\vec{n} = \\frac{\\vec{AB} \\times \\vec{AC}}{\\|\\vec{AB} \\times \\vec{AC}\\|} $$"
   ]
  },
  {
   "cell_type": "code",
   "execution_count": 13,
   "metadata": {
    "collapsed": false,
    "scrolled": true
   },
   "outputs": [
    {
     "name": "stdout",
     "output_type": "stream",
     "text": [
      "Normal= [ 6.  3.  2.] ,Magnitud 7.0\n"
     ]
    }
   ],
   "source": [
    "Nor = cross(AB,AC)  \n",
    "MNor = sqrt(dot(Nor,Nor))\n",
    "n = Nor / MNor\n",
    "print 'Normal=',Nor, ',' 'Magnitud',MNor"
   ]
  },
  {
   "cell_type": "markdown",
   "metadata": {},
   "source": [
    "Por otro lado, el tensor $[\\sigma]$ sería "
   ]
  },
  {
   "cell_type": "code",
   "execution_count": 14,
   "metadata": {
    "collapsed": true
   },
   "outputs": [],
   "source": [
    "Sigma = ([[80., 40., 30.], \n",
    "           [40.,50., 10.],\n",
    "           [30., 10., 60.]])"
   ]
  },
  {
   "cell_type": "markdown",
   "metadata": {},
   "source": [
    "Con esto, el vector de tracciones $\\vec{t}$ sería entonces: "
   ]
  },
  {
   "cell_type": "code",
   "execution_count": 15,
   "metadata": {
    "collapsed": false
   },
   "outputs": [
    {
     "name": "stdout",
     "output_type": "stream",
     "text": [
      "[ 94.29  58.57  47.14]\n"
     ]
    }
   ],
   "source": [
    "t = dot(Sigma,n)\n",
    "print t.round(2)"
   ]
  },
  {
   "cell_type": "markdown",
   "metadata": {},
   "source": [
    "2.Calcular el esfuerzo normal al que está sometida la cara del punto $P$, que es paralela al plano que contiene los puntos $A$ , $B$ y $C \\\\\\\\$. \n",
    "\n",
    "Solución:\n",
    "El esfuerzo normal no es más que la proyección escalar de $\\vec{t}$ sobre el vector normal unitario $\\hat{n}$. Es otras palabras $\\sigma_{nn} = {\\vec{t} \\cdot \\hat{n}}$\n",
    "\n"
   ]
  },
  {
   "cell_type": "code",
   "execution_count": 16,
   "metadata": {
    "collapsed": false
   },
   "outputs": [
    {
     "name": "stdout",
     "output_type": "stream",
     "text": [
      "119.39\n"
     ]
    }
   ],
   "source": [
    "Sigmann = dot(t,n)\n",
    "print Sigmann.round(2)"
   ]
  },
  {
   "cell_type": "markdown",
   "metadata": {},
   "source": [
    "3.Calcular la magnitud del esfuerzo tangencial al que está sometida la cara del punto $P$, que es paralela al plano que contiene los puntos $A$ , $B$ y $C \\\\\\\\$\n",
    "\n",
    "Solución\n",
    "\n",
    "Teniendo el vector $\\vec{t}$ y su componente normal la componente normal $\\sigma_{nn}$, la magnitud de la compenente tangencial $\\tau$, se calcularía a partir de:\n",
    "\n",
    "$\\|\\vec{t}\\|^2 =  \\|\\sigma_{nn}\\|^2 + \\|\\tau\\|^2$\n",
    "    \n",
    "Despejando $\\tau$, se obtiene:\n"
   ]
  },
  {
   "cell_type": "code",
   "execution_count": 17,
   "metadata": {
    "collapsed": false,
    "scrolled": false
   },
   "outputs": [
    {
     "name": "stdout",
     "output_type": "stream",
     "text": [
      "17.01\n"
     ]
    }
   ],
   "source": [
    "tau = sqrt(dot(t,t) - Sigmann**2) \n",
    "print tau.round(2)"
   ]
  }
 ],
 "metadata": {
  "kernelspec": {
   "display_name": "Python 2",
   "language": "python",
   "name": "python2"
  },
  "language_info": {
   "codemirror_mode": {
    "name": "ipython",
    "version": 2
   },
   "file_extension": ".py",
   "mimetype": "text/x-python",
   "name": "python",
   "nbconvert_exporter": "python",
   "pygments_lexer": "ipython2",
   "version": "2.7.10"
  }
 },
 "nbformat": 4,
 "nbformat_minor": 0
}
